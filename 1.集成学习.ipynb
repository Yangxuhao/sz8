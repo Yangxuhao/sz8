{
 "cells": [
  {
   "cell_type": "code",
   "execution_count": 7,
   "metadata": {
    "collapsed": true
   },
   "outputs": [],
   "source": [
    "import  pandas as pd\n",
    "import numpy as np\n",
    "import  sklearn.datasets as datasets\n",
    "from sklearn import  model_selection\n",
    "from sklearn.linear_model import LogisticRegression\n",
    "from sklearn.svm import SVC\n",
    "from sklearn.tree import DecisionTreeClassifier\n",
    "from sklearn.ensemble import VotingClassifier"
   ]
  },
  {
   "cell_type": "code",
   "execution_count": 29,
   "metadata": {},
   "outputs": [],
   "source": [
    "path=r\"C:\\Users\\xuhao_yang\\PycharmProjects\\sz8\\diabetes.csv\"\n",
    "data=pd.read_csv(path)"
   ]
  },
  {
   "cell_type": "code",
   "execution_count": 31,
   "metadata": {},
   "outputs": [],
   "source": [
    "array=data.values"
   ]
  },
  {
   "cell_type": "code",
   "execution_count": 32,
   "metadata": {},
   "outputs": [
    {
     "data": {
      "text/plain": [
       "array([[  6.   , 148.   ,  72.   , ...,   0.627,  50.   ,   1.   ],\n       [  1.   ,  85.   ,  66.   , ...,   0.351,  31.   ,   0.   ],\n       [  8.   , 183.   ,  64.   , ...,   0.672,  32.   ,   1.   ],\n       ...,\n       [  5.   , 121.   ,  72.   , ...,   0.245,  30.   ,   0.   ],\n       [  1.   , 126.   ,  60.   , ...,   0.349,  47.   ,   1.   ],\n       [  1.   ,  93.   ,  70.   , ...,   0.315,  23.   ,   0.   ]])"
      ]
     },
     "execution_count": 32,
     "metadata": {},
     "output_type": "execute_result"
    }
   ],
   "source": [
    "array"
   ]
  },
  {
   "cell_type": "code",
   "execution_count": 33,
   "metadata": {},
   "outputs": [
    {
     "data": {
      "text/plain": [
       "(768, 8)"
      ]
     },
     "execution_count": 33,
     "metadata": {},
     "output_type": "execute_result"
    }
   ],
   "source": [
    "X=array[:,:-1]\n",
    "X.shape"
   ]
  },
  {
   "cell_type": "code",
   "execution_count": 35,
   "metadata": {},
   "outputs": [
    {
     "data": {
      "text/plain": [
       "(768,)"
      ]
     },
     "execution_count": 35,
     "metadata": {},
     "output_type": "execute_result"
    }
   ],
   "source": [
    "Y=array[:,-1]\n",
    "Y.shape"
   ]
  },
  {
   "cell_type": "code",
   "execution_count": 36,
   "metadata": {},
   "outputs": [],
   "source": [
    "kfold=model_selection.KFold(n_splits=10,random_state=7)"
   ]
  },
  {
   "cell_type": "code",
   "execution_count": 38,
   "metadata": {},
   "outputs": [
    {
     "name": "stderr",
     "output_type": "stream",
     "text": [
      "C:\\Users\\xuhao_yang\\AppData\\Roaming\\Python\\Python36\\site-packages\\sklearn\\linear_model\\logistic.py:433: FutureWarning: Default solver will be changed to 'lbfgs' in 0.22. Specify a solver to silence this warning.\n  FutureWarning)\nC:\\Users\\xuhao_yang\\AppData\\Roaming\\Python\\Python36\\site-packages\\sklearn\\svm\\base.py:196: FutureWarning: The default value of gamma will change from 'auto' to 'scale' in version 0.22 to account better for unscaled features. Set gamma explicitly to 'auto' or 'scale' to avoid this warning.\n  \"avoid this warning.\", FutureWarning)\nC:\\Users\\xuhao_yang\\AppData\\Roaming\\Python\\Python36\\site-packages\\sklearn\\linear_model\\logistic.py:433: FutureWarning: Default solver will be changed to 'lbfgs' in 0.22. Specify a solver to silence this warning.\n  FutureWarning)\nC:\\Users\\xuhao_yang\\AppData\\Roaming\\Python\\Python36\\site-packages\\sklearn\\svm\\base.py:196: FutureWarning: The default value of gamma will change from 'auto' to 'scale' in version 0.22 to account better for unscaled features. Set gamma explicitly to 'auto' or 'scale' to avoid this warning.\n  \"avoid this warning.\", FutureWarning)\n"
     ]
    },
    {
     "name": "stderr",
     "output_type": "stream",
     "text": [
      "C:\\Users\\xuhao_yang\\AppData\\Roaming\\Python\\Python36\\site-packages\\sklearn\\linear_model\\logistic.py:433: FutureWarning: Default solver will be changed to 'lbfgs' in 0.22. Specify a solver to silence this warning.\n  FutureWarning)\nC:\\Users\\xuhao_yang\\AppData\\Roaming\\Python\\Python36\\site-packages\\sklearn\\svm\\base.py:196: FutureWarning: The default value of gamma will change from 'auto' to 'scale' in version 0.22 to account better for unscaled features. Set gamma explicitly to 'auto' or 'scale' to avoid this warning.\n  \"avoid this warning.\", FutureWarning)\nC:\\Users\\xuhao_yang\\AppData\\Roaming\\Python\\Python36\\site-packages\\sklearn\\linear_model\\logistic.py:433: FutureWarning: Default solver will be changed to 'lbfgs' in 0.22. Specify a solver to silence this warning.\n  FutureWarning)\nC:\\Users\\xuhao_yang\\AppData\\Roaming\\Python\\Python36\\site-packages\\sklearn\\svm\\base.py:196: FutureWarning: The default value of gamma will change from 'auto' to 'scale' in version 0.22 to account better for unscaled features. Set gamma explicitly to 'auto' or 'scale' to avoid this warning.\n  \"avoid this warning.\", FutureWarning)\n"
     ]
    },
    {
     "name": "stderr",
     "output_type": "stream",
     "text": [
      "C:\\Users\\xuhao_yang\\AppData\\Roaming\\Python\\Python36\\site-packages\\sklearn\\linear_model\\logistic.py:433: FutureWarning: Default solver will be changed to 'lbfgs' in 0.22. Specify a solver to silence this warning.\n  FutureWarning)\nC:\\Users\\xuhao_yang\\AppData\\Roaming\\Python\\Python36\\site-packages\\sklearn\\svm\\base.py:196: FutureWarning: The default value of gamma will change from 'auto' to 'scale' in version 0.22 to account better for unscaled features. Set gamma explicitly to 'auto' or 'scale' to avoid this warning.\n  \"avoid this warning.\", FutureWarning)\nC:\\Users\\xuhao_yang\\AppData\\Roaming\\Python\\Python36\\site-packages\\sklearn\\linear_model\\logistic.py:433: FutureWarning: Default solver will be changed to 'lbfgs' in 0.22. Specify a solver to silence this warning.\n  FutureWarning)\nC:\\Users\\xuhao_yang\\AppData\\Roaming\\Python\\Python36\\site-packages\\sklearn\\svm\\base.py:196: FutureWarning: The default value of gamma will change from 'auto' to 'scale' in version 0.22 to account better for unscaled features. Set gamma explicitly to 'auto' or 'scale' to avoid this warning.\n  \"avoid this warning.\", FutureWarning)\n"
     ]
    },
    {
     "name": "stderr",
     "output_type": "stream",
     "text": [
      "C:\\Users\\xuhao_yang\\AppData\\Roaming\\Python\\Python36\\site-packages\\sklearn\\linear_model\\logistic.py:433: FutureWarning: Default solver will be changed to 'lbfgs' in 0.22. Specify a solver to silence this warning.\n  FutureWarning)\nC:\\Users\\xuhao_yang\\AppData\\Roaming\\Python\\Python36\\site-packages\\sklearn\\svm\\base.py:196: FutureWarning: The default value of gamma will change from 'auto' to 'scale' in version 0.22 to account better for unscaled features. Set gamma explicitly to 'auto' or 'scale' to avoid this warning.\n  \"avoid this warning.\", FutureWarning)\nC:\\Users\\xuhao_yang\\AppData\\Roaming\\Python\\Python36\\site-packages\\sklearn\\linear_model\\logistic.py:433: FutureWarning: Default solver will be changed to 'lbfgs' in 0.22. Specify a solver to silence this warning.\n  FutureWarning)\nC:\\Users\\xuhao_yang\\AppData\\Roaming\\Python\\Python36\\site-packages\\sklearn\\svm\\base.py:196: FutureWarning: The default value of gamma will change from 'auto' to 'scale' in version 0.22 to account better for unscaled features. Set gamma explicitly to 'auto' or 'scale' to avoid this warning.\n  \"avoid this warning.\", FutureWarning)\n"
     ]
    },
    {
     "name": "stderr",
     "output_type": "stream",
     "text": [
      "C:\\Users\\xuhao_yang\\AppData\\Roaming\\Python\\Python36\\site-packages\\sklearn\\linear_model\\logistic.py:433: FutureWarning: Default solver will be changed to 'lbfgs' in 0.22. Specify a solver to silence this warning.\n  FutureWarning)\nC:\\Users\\xuhao_yang\\AppData\\Roaming\\Python\\Python36\\site-packages\\sklearn\\svm\\base.py:196: FutureWarning: The default value of gamma will change from 'auto' to 'scale' in version 0.22 to account better for unscaled features. Set gamma explicitly to 'auto' or 'scale' to avoid this warning.\n  \"avoid this warning.\", FutureWarning)\nC:\\Users\\xuhao_yang\\AppData\\Roaming\\Python\\Python36\\site-packages\\sklearn\\linear_model\\logistic.py:433: FutureWarning: Default solver will be changed to 'lbfgs' in 0.22. Specify a solver to silence this warning.\n  FutureWarning)\nC:\\Users\\xuhao_yang\\AppData\\Roaming\\Python\\Python36\\site-packages\\sklearn\\svm\\base.py:196: FutureWarning: The default value of gamma will change from 'auto' to 'scale' in version 0.22 to account better for unscaled features. Set gamma explicitly to 'auto' or 'scale' to avoid this warning.\n  \"avoid this warning.\", FutureWarning)\n"
     ]
    },
    {
     "name": "stdout",
     "output_type": "stream",
     "text": [
      "[0.61038961 0.79220779 0.71428571 0.64935065 0.75324675 0.74025974\n 0.84415584 0.80519481 0.72368421 0.71052632]\n"
     ]
    }
   ],
   "source": [
    "estimators=[]\n",
    "model1=LogisticRegression()\n",
    "model2=SVC()\n",
    "model3=DecisionTreeClassifier()\n",
    "estimators.append((\"LogisticRegression\",model1))\n",
    "estimators.append((\"SVC\",model2))\n",
    "estimators.append((\"DecisionTreeClassifier\",model3))\n",
    "ensemble=VotingClassifier(estimators)#集成工具\n",
    "result=model_selection.cross_val_score(ensemble,X,Y,cv=kfold)\n",
    "print(result)"
   ]
  },
  {
   "cell_type": "code",
   "execution_count": 40,
   "metadata": {},
   "outputs": [
    {
     "data": {
      "text/plain": [
       "{'estimators': [('LogisticRegression',\n   LogisticRegression(C=1.0, class_weight=None, dual=False, fit_intercept=True,\n             intercept_scaling=1, max_iter=100, multi_class='warn',\n             n_jobs=None, penalty='l2', random_state=None, solver='warn',\n             tol=0.0001, verbose=0, warm_start=False)),\n  ('SVC', SVC(C=1.0, cache_size=200, class_weight=None, coef0=0.0,\n     decision_function_shape='ovr', degree=3, gamma='auto_deprecated',\n     kernel='rbf', max_iter=-1, probability=False, random_state=None,\n     shrinking=True, tol=0.001, verbose=False)),\n  ('DecisionTreeClassifier',\n   DecisionTreeClassifier(class_weight=None, criterion='gini', max_depth=None,\n               max_features=None, max_leaf_nodes=None,\n               min_impurity_decrease=0.0, min_impurity_split=None,\n               min_samples_leaf=1, min_samples_split=2,\n               min_weight_fraction_leaf=0.0, presort=False, random_state=None,\n               splitter='best'))],\n 'flatten_transform': None,\n 'n_jobs': None,\n 'voting': 'hard',\n 'weights': None,\n 'LogisticRegression': LogisticRegression(C=1.0, class_weight=None, dual=False, fit_intercept=True,\n           intercept_scaling=1, max_iter=100, multi_class='warn',\n           n_jobs=None, penalty='l2', random_state=None, solver='warn',\n           tol=0.0001, verbose=0, warm_start=False),\n 'SVC': SVC(C=1.0, cache_size=200, class_weight=None, coef0=0.0,\n   decision_function_shape='ovr', degree=3, gamma='auto_deprecated',\n   kernel='rbf', max_iter=-1, probability=False, random_state=None,\n   shrinking=True, tol=0.001, verbose=False),\n 'DecisionTreeClassifier': DecisionTreeClassifier(class_weight=None, criterion='gini', max_depth=None,\n             max_features=None, max_leaf_nodes=None,\n             min_impurity_decrease=0.0, min_impurity_split=None,\n             min_samples_leaf=1, min_samples_split=2,\n             min_weight_fraction_leaf=0.0, presort=False, random_state=None,\n             splitter='best'),\n 'LogisticRegression__C': 1.0,\n 'LogisticRegression__class_weight': None,\n 'LogisticRegression__dual': False,\n 'LogisticRegression__fit_intercept': True,\n 'LogisticRegression__intercept_scaling': 1,\n 'LogisticRegression__max_iter': 100,\n 'LogisticRegression__multi_class': 'warn',\n 'LogisticRegression__n_jobs': None,\n 'LogisticRegression__penalty': 'l2',\n 'LogisticRegression__random_state': None,\n 'LogisticRegression__solver': 'warn',\n 'LogisticRegression__tol': 0.0001,\n 'LogisticRegression__verbose': 0,\n 'LogisticRegression__warm_start': False,\n 'SVC__C': 1.0,\n 'SVC__cache_size': 200,\n 'SVC__class_weight': None,\n 'SVC__coef0': 0.0,\n 'SVC__decision_function_shape': 'ovr',\n 'SVC__degree': 3,\n 'SVC__gamma': 'auto_deprecated',\n 'SVC__kernel': 'rbf',\n 'SVC__max_iter': -1,\n 'SVC__probability': False,\n 'SVC__random_state': None,\n 'SVC__shrinking': True,\n 'SVC__tol': 0.001,\n 'SVC__verbose': False,\n 'DecisionTreeClassifier__class_weight': None,\n 'DecisionTreeClassifier__criterion': 'gini',\n 'DecisionTreeClassifier__max_depth': None,\n 'DecisionTreeClassifier__max_features': None,\n 'DecisionTreeClassifier__max_leaf_nodes': None,\n 'DecisionTreeClassifier__min_impurity_decrease': 0.0,\n 'DecisionTreeClassifier__min_impurity_split': None,\n 'DecisionTreeClassifier__min_samples_leaf': 1,\n 'DecisionTreeClassifier__min_samples_split': 2,\n 'DecisionTreeClassifier__min_weight_fraction_leaf': 0.0,\n 'DecisionTreeClassifier__presort': False,\n 'DecisionTreeClassifier__random_state': None,\n 'DecisionTreeClassifier__splitter': 'best'}"
      ]
     },
     "execution_count": 40,
     "metadata": {},
     "output_type": "execute_result"
    }
   ],
   "source": [
    "ensemble.get_params()"
   ]
  },
  {
   "cell_type": "code",
   "execution_count": null,
   "metadata": {},
   "outputs": [],
   "source": [
    ""
   ]
  }
 ],
 "metadata": {
  "kernelspec": {
   "display_name": "Python 2",
   "language": "python",
   "name": "python2"
  },
  "language_info": {
   "codemirror_mode": {
    "name": "ipython",
    "version": 2.0
   },
   "file_extension": ".py",
   "mimetype": "text/x-python",
   "name": "python",
   "nbconvert_exporter": "python",
   "pygments_lexer": "ipython2",
   "version": "2.7.6"
  }
 },
 "nbformat": 4,
 "nbformat_minor": 0
}