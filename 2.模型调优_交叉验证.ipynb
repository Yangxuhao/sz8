{
 "cells": [
  {
   "cell_type": "code",
   "execution_count": 1,
   "metadata": {
    "collapsed": true
   },
   "outputs": [],
   "source": [
    "import  pandas as pd\n",
    "import numpy as np\n",
    "import  sklearn.datasets as datasets\n",
    "from sklearn import  model_selection\n",
    "from sklearn.model_selection import train_test_split\n",
    "from sklearn.neighbors import KNeighborsClassifier\n",
    "from sklearn.model_selection import cross_val_score"
   ]
  },
  {
   "cell_type": "code",
   "execution_count": 5,
   "metadata": {},
   "outputs": [],
   "source": [
    "iris=datasets.load_iris()\n",
    "x=iris.data\n",
    "y=iris.target"
   ]
  },
  {
   "cell_type": "code",
   "execution_count": 6,
   "metadata": {},
   "outputs": [
    {
     "data": {
      "text/plain": [
       "array([0.96666667, 1.        , 0.93333333, 0.96666667, 1.        ])"
      ]
     },
     "execution_count": 6,
     "metadata": {},
     "output_type": "execute_result"
    }
   ],
   "source": [
    "knn=KNeighborsClassifier(n_neighbors=5)\n",
    "cross_val_score(knn,x,y,cv=5,scoring=\"accuracy\")"
   ]
  },
  {
   "cell_type": "code",
   "execution_count": 7,
   "metadata": {},
   "outputs": [],
   "source": [
    "k_range=range(1,30)\n",
    "k_score=[]"
   ]
  },
  {
   "cell_type": "code",
   "execution_count": 11,
   "metadata": {},
   "outputs": [
    {
     "data": {
      "text/plain": [
       "[(1, 0.9666666666666668),\n (2, 0.9666666666666668),\n (3, 0.9666666666666668),\n (4, 0.9666666666666668),\n (5, 0.9666666666666668),\n (6, 0.9666666666666668),\n (7, 0.9666666666666668),\n (8, 0.9666666666666668),\n (9, 0.9666666666666668),\n (10, 0.9666666666666668),\n (11, 0.9666666666666668),\n (12, 0.9666666666666668),\n (13, 0.9666666666666668),\n (14, 0.9666666666666668),\n (15, 0.9666666666666668),\n (16, 0.9666666666666668),\n (17, 0.9666666666666668),\n (18, 0.9666666666666668),\n (19, 0.9666666666666668),\n (20, 0.9666666666666668),\n (21, 0.9666666666666668),\n (22, 0.9666666666666668),\n (23, 0.9666666666666668),\n (24, 0.9666666666666668),\n (25, 0.9666666666666668),\n (26, 0.9666666666666668),\n (27, 0.9666666666666668),\n (28, 0.9666666666666668),\n (29, 0.9666666666666668),\n (1, 0.9666666666666668),\n (2, 0.9666666666666668),\n (3, 0.9666666666666668),\n (4, 0.9666666666666668),\n (5, 0.9666666666666668),\n (6, 0.9666666666666668),\n (7, 0.9666666666666668),\n (8, 0.9666666666666668),\n (9, 0.9666666666666668),\n (10, 0.9666666666666668),\n (11, 0.9666666666666668),\n (12, 0.9666666666666668),\n (13, 0.9666666666666668),\n (14, 0.9666666666666668),\n (15, 0.9666666666666668),\n (16, 0.9666666666666668),\n (17, 0.9666666666666668),\n (18, 0.9666666666666668),\n (19, 0.9666666666666668),\n (20, 0.9666666666666668),\n (21, 0.9666666666666668),\n (22, 0.9666666666666668),\n (23, 0.9666666666666668),\n (24, 0.9666666666666668),\n (25, 0.9666666666666668),\n (26, 0.9666666666666668),\n (27, 0.9666666666666668),\n (28, 0.9666666666666668),\n (29, 0.9666666666666668)]"
      ]
     },
     "execution_count": 11,
     "metadata": {},
     "output_type": "execute_result"
    }
   ],
   "source": [
    "for key in k_range:\n",
    "    knn_tmp=KNeighborsClassifier(n_neighbors=key)\n",
    "    scores=cross_val_score(knn,x,y,cv=10,scoring=\"accuracy\")\n",
    "    k_score.append((key,scores.mean()))\n",
    "k_score"
   ]
  },
  {
   "cell_type": "code",
   "execution_count": 9,
   "metadata": {},
   "outputs": [],
   "source": [
    "k_score.sort(key=lambda x:x[1],reverse=True)"
   ]
  },
  {
   "cell_type": "code",
   "execution_count": 10,
   "metadata": {},
   "outputs": [
    {
     "data": {
      "text/plain": [
       "[(1, 0.9666666666666668),\n (2, 0.9666666666666668),\n (3, 0.9666666666666668),\n (4, 0.9666666666666668),\n (5, 0.9666666666666668),\n (6, 0.9666666666666668),\n (7, 0.9666666666666668),\n (8, 0.9666666666666668),\n (9, 0.9666666666666668),\n (10, 0.9666666666666668),\n (11, 0.9666666666666668),\n (12, 0.9666666666666668),\n (13, 0.9666666666666668),\n (14, 0.9666666666666668),\n (15, 0.9666666666666668),\n (16, 0.9666666666666668),\n (17, 0.9666666666666668),\n (18, 0.9666666666666668),\n (19, 0.9666666666666668),\n (20, 0.9666666666666668),\n (21, 0.9666666666666668),\n (22, 0.9666666666666668),\n (23, 0.9666666666666668),\n (24, 0.9666666666666668),\n (25, 0.9666666666666668),\n (26, 0.9666666666666668),\n (27, 0.9666666666666668),\n (28, 0.9666666666666668),\n (29, 0.9666666666666668)]"
      ]
     },
     "execution_count": 10,
     "metadata": {},
     "output_type": "execute_result"
    }
   ],
   "source": [
    "k_score"
   ]
  },
  {
   "cell_type": "code",
   "execution_count": 12,
   "metadata": {},
   "outputs": [],
   "source": [
    "import matplotlib.pyplot as plt\n",
    "%matplotlib inline"
   ]
  },
  {
   "cell_type": "code",
   "execution_count": 15,
   "metadata": {},
   "outputs": [
    {
     "ename": "TypeError",
     "evalue": "list indices must be integers or slices, not tuple",
     "traceback": [
      "\u001b[1;31m---------------------------------------------------------------------------\u001b[0m",
      "\u001b[1;31mTypeError\u001b[0m                                 Traceback (most recent call last)",
      "\u001b[1;32m<ipython-input-15-9640cf42ef0a>\u001b[0m in \u001b[0;36m<module>\u001b[1;34m\u001b[0m\n\u001b[1;32m----> 1\u001b[1;33m \u001b[0mplt\u001b[0m\u001b[1;33m.\u001b[0m\u001b[0mplot\u001b[0m\u001b[1;33m(\u001b[0m\u001b[0mlist\u001b[0m\u001b[1;33m(\u001b[0m\u001b[0mk_score\u001b[0m\u001b[1;33m[\u001b[0m\u001b[1;33m:\u001b[0m\u001b[1;33m,\u001b[0m\u001b[1;36m0\u001b[0m\u001b[1;33m]\u001b[0m\u001b[1;33m)\u001b[0m\u001b[1;33m,\u001b[0m\u001b[0mlist\u001b[0m\u001b[1;33m(\u001b[0m\u001b[0mk_score\u001b[0m\u001b[1;33m[\u001b[0m\u001b[1;33m:\u001b[0m\u001b[1;33m,\u001b[0m\u001b[1;36m1\u001b[0m\u001b[1;33m]\u001b[0m\u001b[1;33m)\u001b[0m\u001b[1;33m)\u001b[0m\u001b[1;33m\u001b[0m\u001b[0m\n\u001b[0m",
      "\u001b[1;31mTypeError\u001b[0m: list indices must be integers or slices, not tuple"
     ],
     "output_type": "error"
    }
   ],
   "source": [
    "plt.plot(list(k_score[:,0]),list(k_score[:,1]))"
   ]
  },
  {
   "cell_type": "code",
   "execution_count": null,
   "metadata": {},
   "outputs": [],
   "source": [
    ""
   ]
  }
 ],
 "metadata": {
  "kernelspec": {
   "display_name": "Python 2",
   "language": "python",
   "name": "python2"
  },
  "language_info": {
   "codemirror_mode": {
    "name": "ipython",
    "version": 2.0
   },
   "file_extension": ".py",
   "mimetype": "text/x-python",
   "name": "python",
   "nbconvert_exporter": "python",
   "pygments_lexer": "ipython2",
   "version": "2.7.6"
  }
 },
 "nbformat": 4,
 "nbformat_minor": 0
}